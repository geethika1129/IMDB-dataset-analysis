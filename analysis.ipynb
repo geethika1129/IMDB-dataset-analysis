{
 "cells": [
  {
   "cell_type": "code",
   "execution_count": 1,
   "metadata": {},
   "outputs": [
    {
     "name": "stdout",
     "output_type": "stream",
     "text": [
      "Downloading data from https://storage.googleapis.com/tensorflow/tf-keras-datasets/imdb.npz\n",
      "17464789/17464789 [==============================] - 3s 0us/step\n"
     ]
    }
   ],
   "source": [
    "from keras.datasets import imdb\n",
    "(train_data,train_labels),(test_data,test_labels)=imdb.load_data(num_words=10000)"
   ]
  },
  {
   "cell_type": "code",
   "execution_count": 2,
   "metadata": {},
   "outputs": [
    {
     "data": {
      "text/plain": [
       "[1,\n",
       " 14,\n",
       " 22,\n",
       " 16,\n",
       " 43,\n",
       " 530,\n",
       " 973,\n",
       " 1622,\n",
       " 1385,\n",
       " 65,\n",
       " 458,\n",
       " 4468,\n",
       " 66,\n",
       " 3941,\n",
       " 4,\n",
       " 173,\n",
       " 36,\n",
       " 256,\n",
       " 5,\n",
       " 25,\n",
       " 100,\n",
       " 43,\n",
       " 838,\n",
       " 112,\n",
       " 50,\n",
       " 670,\n",
       " 2,\n",
       " 9,\n",
       " 35,\n",
       " 480,\n",
       " 284,\n",
       " 5,\n",
       " 150,\n",
       " 4,\n",
       " 172,\n",
       " 112,\n",
       " 167,\n",
       " 2,\n",
       " 336,\n",
       " 385,\n",
       " 39,\n",
       " 4,\n",
       " 172,\n",
       " 4536,\n",
       " 1111,\n",
       " 17,\n",
       " 546,\n",
       " 38,\n",
       " 13,\n",
       " 447,\n",
       " 4,\n",
       " 192,\n",
       " 50,\n",
       " 16,\n",
       " 6,\n",
       " 147,\n",
       " 2025,\n",
       " 19,\n",
       " 14,\n",
       " 22,\n",
       " 4,\n",
       " 1920,\n",
       " 4613,\n",
       " 469,\n",
       " 4,\n",
       " 22,\n",
       " 71,\n",
       " 87,\n",
       " 12,\n",
       " 16,\n",
       " 43,\n",
       " 530,\n",
       " 38,\n",
       " 76,\n",
       " 15,\n",
       " 13,\n",
       " 1247,\n",
       " 4,\n",
       " 22,\n",
       " 17,\n",
       " 515,\n",
       " 17,\n",
       " 12,\n",
       " 16,\n",
       " 626,\n",
       " 18,\n",
       " 2,\n",
       " 5,\n",
       " 62,\n",
       " 386,\n",
       " 12,\n",
       " 8,\n",
       " 316,\n",
       " 8,\n",
       " 106,\n",
       " 5,\n",
       " 4,\n",
       " 2223,\n",
       " 5244,\n",
       " 16,\n",
       " 480,\n",
       " 66,\n",
       " 3785,\n",
       " 33,\n",
       " 4,\n",
       " 130,\n",
       " 12,\n",
       " 16,\n",
       " 38,\n",
       " 619,\n",
       " 5,\n",
       " 25,\n",
       " 124,\n",
       " 51,\n",
       " 36,\n",
       " 135,\n",
       " 48,\n",
       " 25,\n",
       " 1415,\n",
       " 33,\n",
       " 6,\n",
       " 22,\n",
       " 12,\n",
       " 215,\n",
       " 28,\n",
       " 77,\n",
       " 52,\n",
       " 5,\n",
       " 14,\n",
       " 407,\n",
       " 16,\n",
       " 82,\n",
       " 2,\n",
       " 8,\n",
       " 4,\n",
       " 107,\n",
       " 117,\n",
       " 5952,\n",
       " 15,\n",
       " 256,\n",
       " 4,\n",
       " 2,\n",
       " 7,\n",
       " 3766,\n",
       " 5,\n",
       " 723,\n",
       " 36,\n",
       " 71,\n",
       " 43,\n",
       " 530,\n",
       " 476,\n",
       " 26,\n",
       " 400,\n",
       " 317,\n",
       " 46,\n",
       " 7,\n",
       " 4,\n",
       " 2,\n",
       " 1029,\n",
       " 13,\n",
       " 104,\n",
       " 88,\n",
       " 4,\n",
       " 381,\n",
       " 15,\n",
       " 297,\n",
       " 98,\n",
       " 32,\n",
       " 2071,\n",
       " 56,\n",
       " 26,\n",
       " 141,\n",
       " 6,\n",
       " 194,\n",
       " 7486,\n",
       " 18,\n",
       " 4,\n",
       " 226,\n",
       " 22,\n",
       " 21,\n",
       " 134,\n",
       " 476,\n",
       " 26,\n",
       " 480,\n",
       " 5,\n",
       " 144,\n",
       " 30,\n",
       " 5535,\n",
       " 18,\n",
       " 51,\n",
       " 36,\n",
       " 28,\n",
       " 224,\n",
       " 92,\n",
       " 25,\n",
       " 104,\n",
       " 4,\n",
       " 226,\n",
       " 65,\n",
       " 16,\n",
       " 38,\n",
       " 1334,\n",
       " 88,\n",
       " 12,\n",
       " 16,\n",
       " 283,\n",
       " 5,\n",
       " 16,\n",
       " 4472,\n",
       " 113,\n",
       " 103,\n",
       " 32,\n",
       " 15,\n",
       " 16,\n",
       " 5345,\n",
       " 19,\n",
       " 178,\n",
       " 32]"
      ]
     },
     "execution_count": 2,
     "metadata": {},
     "output_type": "execute_result"
    }
   ],
   "source": [
    "train_data[0]"
   ]
  },
  {
   "cell_type": "code",
   "execution_count": 3,
   "metadata": {},
   "outputs": [
    {
     "data": {
      "text/plain": [
       "1"
      ]
     },
     "execution_count": 3,
     "metadata": {},
     "output_type": "execute_result"
    }
   ],
   "source": [
    "train_labels[0]"
   ]
  },
  {
   "cell_type": "code",
   "execution_count": 5,
   "metadata": {},
   "outputs": [
    {
     "data": {
      "text/plain": [
       "9999"
      ]
     },
     "execution_count": 5,
     "metadata": {},
     "output_type": "execute_result"
    }
   ],
   "source": [
    "#because we only have 10000 words index will be9999\n",
    "max([max(ssequence) for ssequence in train_data])"
   ]
  },
  {
   "cell_type": "code",
   "execution_count": 6,
   "metadata": {},
   "outputs": [
    {
     "name": "stdout",
     "output_type": "stream",
     "text": [
      "Downloading data from https://storage.googleapis.com/tensorflow/tf-keras-datasets/imdb_word_index.json\n",
      "1641221/1641221 [==============================] - 1s 1us/step\n"
     ]
    }
   ],
   "source": [
    "#decode it\n",
    "word_index=imdb.get_word_index() #maps words to index in dict\n",
    "reverse_word_index=dict([(value,key) for (key,value) in word_index.items()]) #reverses the indexing"
   ]
  },
  {
   "cell_type": "code",
   "execution_count": 8,
   "metadata": {},
   "outputs": [],
   "source": [
    "decoded_review=' '.join([reverse_word_index.get(i-3,'?') for i in train_data[0]]) #adds the padding"
   ]
  },
  {
   "cell_type": "code",
   "execution_count": 9,
   "metadata": {},
   "outputs": [],
   "source": [
    "#preparing the data \n",
    "#-- we cannot directly feed data in form of tensors not in the form of integers\n",
    "#--we will target to put it in 2d tensor like (sample word,wordindices)"
   ]
  },
  {
   "cell_type": "code",
   "execution_count": 10,
   "metadata": {},
   "outputs": [],
   "source": [
    "#then we on hot encode it and turn them in to 0s and 1s"
   ]
  },
  {
   "cell_type": "code",
   "execution_count": 21,
   "metadata": {},
   "outputs": [],
   "source": [
    "import numpy as np\n",
    "def vectorize_sequences(sequences,dimension=10000):\n",
    "    results=np.zeros((len(sequences),dimension)) # create all 0matrix\n",
    "    for i,sequence in enumerate(sequences): #eneumerate keeps a count on the oterations taku=inf=g place\n",
    "        results[i,sequence]=1 #change several to 1\n",
    "    return results\n"
   ]
  },
  {
   "attachments": {},
   "cell_type": "markdown",
   "metadata": {},
   "source": [
    " wth is actually happening ????\n",
    "\n",
    "from dict we have for ex\n",
    "word      word_id\n",
    "I      -> 0\n",
    "you    -> 1\n",
    "he     -> 2\n",
    "be     -> 3\n",
    "eat    -> 4\n",
    "happy  -> 5\n",
    "sad    -> 6\n",
    "banana -> 7\n",
    "a      -> 8\n",
    "\n",
    "\n",
    "we do this to vectorize\n",
    "\n",
    "I be happy      -> [0,3,5]   -> [1,0,0,1,0,1,0,0,0]\n",
    "I eat a banana. -> [0,4,8,7] -> [1,0,0,0,1,0,0,1,1]"
   ]
  },
  {
   "cell_type": "code",
   "execution_count": 26,
   "metadata": {},
   "outputs": [
    {
     "data": {
      "text/plain": [
       "' word      word_id\\nI      -> 0\\nyou    -> 1\\nhe     -> 2\\nbe     -> 3\\neat    -> 4\\nhappy  -> 5\\nsad    -> 6\\nbanana -> 7\\na      -> 8\\n\\nI be happy      -> [0,3,5]   -> [1,0,0,1,0,1,0,0,0]\\nI eat a banana. -> [0,4,8,7] -> [1,0,0,0,1,0,0,1,1] '"
      ]
     },
     "execution_count": 26,
     "metadata": {},
     "output_type": "execute_result"
    }
   ],
   "source": [
    "\"\"\" word      word_id\n",
    "I      -> 0\n",
    "you    -> 1\n",
    "he     -> 2\n",
    "be     -> 3\n",
    "eat    -> 4\n",
    "happy  -> 5\n",
    "sad    -> 6\n",
    "banana -> 7\n",
    "a      -> 8\n",
    "\n",
    "I be happy      -> [0,3,5]   -> [1,0,0,1,0,1,0,0,0]\n",
    "I eat a banana. -> [0,4,8,7] -> [1,0,0,0,1,0,0,1,1] \"\"\""
   ]
  },
  {
   "cell_type": "code",
   "execution_count": 22,
   "metadata": {},
   "outputs": [],
   "source": [
    "#vectorixe everything literally everything even the labels :))\n",
    "\n",
    "x_train=vectorize_sequences(train_data)\n",
    "x_test=vectorize_sequences(test_data)"
   ]
  },
  {
   "cell_type": "code",
   "execution_count": 23,
   "metadata": {},
   "outputs": [
    {
     "data": {
      "text/plain": [
       "array([0., 1., 1., ..., 0., 0., 0.])"
      ]
     },
     "execution_count": 23,
     "metadata": {},
     "output_type": "execute_result"
    }
   ],
   "source": [
    "x_train[0]"
   ]
  },
  {
   "cell_type": "code",
   "execution_count": 24,
   "metadata": {},
   "outputs": [],
   "source": [
    "#vectorize the labels\n",
    "y_train=np.asarray(train_labels).astype('float32')\n",
    "y_test=np.asarray(test_labels).astype('float32')"
   ]
  },
  {
   "cell_type": "code",
   "execution_count": 25,
   "metadata": {},
   "outputs": [
    {
     "data": {
      "text/plain": [
       "' Build the network noww\\n\\nuse dense because the input dat is in vectors and labels are scalers\\ndont use so many hidden layers-- coz it may lead to wrong patterns\\n '"
      ]
     },
     "execution_count": 25,
     "metadata": {},
     "output_type": "execute_result"
    }
   ],
   "source": [
    "\"\"\" Build the network noww\n",
    "\n",
    "use dense because the input dat is in vectors and labels are scalers\n",
    "dont use so many hidden layers-- coz it may lead to wrong patterns\n",
    " \"\"\""
   ]
  },
  {
   "cell_type": "code",
   "execution_count": 27,
   "metadata": {},
   "outputs": [
    {
     "data": {
      "text/plain": [
       "' we use 2 intermediate layers with 16 hidden units i.e wrt to the weight matrix will have 16by 16 16 d space will be created -- relu\\n\\na third ;ayer will output thr scalar prediccrion regarding the sentoment analysis -- sigmoid coz only between 0 and 1 will be the output '"
      ]
     },
     "execution_count": 27,
     "metadata": {},
     "output_type": "execute_result"
    }
   ],
   "source": [
    "\"\"\" we use 2 intermediate layers with 16 hidden units i.e wrt to the weight matrix will have 16by 16 16 d space will be created -- relu\n",
    "\n",
    "a third ;ayer will output thr scalar prediccrion regarding the sentoment analysis -- sigmoid coz only between 0 and 1 will be the output \"\"\"\n"
   ]
  },
  {
   "cell_type": "code",
   "execution_count": 28,
   "metadata": {},
   "outputs": [
    {
     "data": {
      "text/plain": [
       "' it is a binary classification problem we use binary cross entropy\\n--coz output in form of probanbilities\\nuse mean squared error '"
      ]
     },
     "execution_count": 28,
     "metadata": {},
     "output_type": "execute_result"
    }
   ],
   "source": [
    "\"\"\" it is a binary classification problem we use binary cross entropy\n",
    "--coz output in form of probanbilities\n",
    "use mean squared error \"\"\""
   ]
  },
  {
   "cell_type": "code",
   "execution_count": 29,
   "metadata": {},
   "outputs": [],
   "source": [
    "from keras import models\n",
    "from keras import layers\n",
    "model = models.Sequential()\n",
    "model.add(layers.Dense(16, activation='relu', input_shape=(10000,)))\n",
    "model.add(layers.Dense(16, activation='relu'))\n",
    "model.add(layers.Dense(1, activation='sigmoid'))"
   ]
  },
  {
   "cell_type": "code",
   "execution_count": 32,
   "metadata": {},
   "outputs": [],
   "source": [
    "#configure the metrics with the prameters required\n",
    "from keras import losses\n",
    "from keras import metrics\n",
    "from keras import optimizers\n",
    "model.compile(optimizer=optimizers.RMSprop(learning_rate=0.001),\n",
    "loss=losses.binary_crossentropy,\n",
    "metrics=[metrics.binary_accuracy])"
   ]
  },
  {
   "cell_type": "code",
   "execution_count": 33,
   "metadata": {},
   "outputs": [],
   "source": [
    "#make a validiation set--- we have laready used the first 10k for the training process remove thme and use the next 10k from the datset to validiate the data\n",
    "x_val = x_train[:10000]\n",
    "partial_x_train = x_train[10000:]\n",
    "\n",
    "y_val = y_train[:10000]\n",
    "partial_y_train = y_train[10000:]"
   ]
  },
  {
   "cell_type": "code",
   "execution_count": null,
   "metadata": {},
   "outputs": [],
   "source": [
    "\"\"\" model.fit return history object\n",
    "this object has member history \"\"\""
   ]
  },
  {
   "cell_type": "code",
   "execution_count": 34,
   "metadata": {},
   "outputs": [
    {
     "name": "stdout",
     "output_type": "stream",
     "text": [
      "Epoch 1/20\n",
      "30/30 [==============================] - 6s 157ms/step - loss: 0.5728 - acc: 0.7445 - val_loss: 0.4660 - val_acc: 0.8228\n",
      "Epoch 2/20\n",
      "30/30 [==============================] - 1s 21ms/step - loss: 0.3845 - acc: 0.8832 - val_loss: 0.3762 - val_acc: 0.8694\n",
      "Epoch 3/20\n",
      "30/30 [==============================] - 1s 18ms/step - loss: 0.2848 - acc: 0.9121 - val_loss: 0.3074 - val_acc: 0.8851\n",
      "Epoch 4/20\n",
      "30/30 [==============================] - 0s 17ms/step - loss: 0.2275 - acc: 0.9282 - val_loss: 0.3034 - val_acc: 0.8824\n",
      "Epoch 5/20\n",
      "30/30 [==============================] - 1s 19ms/step - loss: 0.1847 - acc: 0.9441 - val_loss: 0.3572 - val_acc: 0.8551\n",
      "Epoch 6/20\n",
      "30/30 [==============================] - 1s 18ms/step - loss: 0.1605 - acc: 0.9499 - val_loss: 0.2951 - val_acc: 0.8812\n",
      "Epoch 7/20\n",
      "30/30 [==============================] - 0s 16ms/step - loss: 0.1369 - acc: 0.9583 - val_loss: 0.2891 - val_acc: 0.8858\n",
      "Epoch 8/20\n",
      "30/30 [==============================] - 1s 17ms/step - loss: 0.1165 - acc: 0.9679 - val_loss: 0.2977 - val_acc: 0.8858\n",
      "Epoch 9/20\n",
      "30/30 [==============================] - 0s 16ms/step - loss: 0.1002 - acc: 0.9733 - val_loss: 0.3807 - val_acc: 0.8688\n",
      "Epoch 10/20\n",
      "30/30 [==============================] - 0s 15ms/step - loss: 0.0864 - acc: 0.9771 - val_loss: 0.3342 - val_acc: 0.8836\n",
      "Epoch 11/20\n",
      "30/30 [==============================] - 0s 16ms/step - loss: 0.0763 - acc: 0.9808 - val_loss: 0.3385 - val_acc: 0.8796\n",
      "Epoch 12/20\n",
      "30/30 [==============================] - 1s 17ms/step - loss: 0.0619 - acc: 0.9865 - val_loss: 0.3605 - val_acc: 0.8803\n",
      "Epoch 13/20\n",
      "30/30 [==============================] - 1s 18ms/step - loss: 0.0541 - acc: 0.9890 - val_loss: 0.3878 - val_acc: 0.8707\n",
      "Epoch 14/20\n",
      "30/30 [==============================] - 1s 21ms/step - loss: 0.0484 - acc: 0.9900 - val_loss: 0.4044 - val_acc: 0.8778\n",
      "Epoch 15/20\n",
      "30/30 [==============================] - 1s 23ms/step - loss: 0.0395 - acc: 0.9930 - val_loss: 0.5201 - val_acc: 0.8609\n",
      "Epoch 16/20\n",
      "30/30 [==============================] - 1s 20ms/step - loss: 0.0321 - acc: 0.9953 - val_loss: 0.4334 - val_acc: 0.8751\n",
      "Epoch 17/20\n",
      "30/30 [==============================] - 0s 17ms/step - loss: 0.0311 - acc: 0.9956 - val_loss: 0.4504 - val_acc: 0.8707\n",
      "Epoch 18/20\n",
      "30/30 [==============================] - 1s 18ms/step - loss: 0.0264 - acc: 0.9963 - val_loss: 0.4756 - val_acc: 0.8730\n",
      "Epoch 19/20\n",
      "30/30 [==============================] - 1s 17ms/step - loss: 0.0205 - acc: 0.9974 - val_loss: 0.5012 - val_acc: 0.8738\n",
      "Epoch 20/20\n",
      "30/30 [==============================] - 1s 20ms/step - loss: 0.0190 - acc: 0.9971 - val_loss: 0.5150 - val_acc: 0.8722\n"
     ]
    }
   ],
   "source": [
    "model.compile(optimizer='rmsprop',\n",
    "loss='binary_crossentropy',\n",
    "metrics=['acc'])\n",
    "history = model.fit(partial_x_train,\n",
    "partial_y_train,\n",
    "epochs=20,\n",
    "batch_size=512,\n",
    "validation_data=(x_val, y_val))"
   ]
  },
  {
   "cell_type": "code",
   "execution_count": 35,
   "metadata": {},
   "outputs": [
    {
     "name": "stdout",
     "output_type": "stream",
     "text": [
      "782/782 [==============================] - 1s 2ms/step - loss: 0.5467 - acc: 0.8612\n"
     ]
    }
   ],
   "source": [
    "results = model.evaluate(x_test, y_test)"
   ]
  },
  {
   "cell_type": "code",
   "execution_count": 36,
   "metadata": {},
   "outputs": [
    {
     "data": {
      "text/plain": [
       "[0.5467485189437866, 0.8611599802970886]"
      ]
     },
     "execution_count": 36,
     "metadata": {},
     "output_type": "execute_result"
    }
   ],
   "source": [
    "results"
   ]
  },
  {
   "cell_type": "code",
   "execution_count": 37,
   "metadata": {},
   "outputs": [
    {
     "data": {
      "text/plain": [
       "dict_keys(['loss', 'acc', 'val_loss', 'val_acc'])"
      ]
     },
     "execution_count": 37,
     "metadata": {},
     "output_type": "execute_result"
    }
   ],
   "source": [
    "#analyssis of history;}\n",
    "dict=history.history\n",
    "dict.keys()"
   ]
  },
  {
   "cell_type": "code",
   "execution_count": 38,
   "metadata": {},
   "outputs": [],
   "source": [
    "import matplotlib.pyplot as plt\n",
    "lossvalues=dict['loss']\n",
    "vallossvalues=dict['val_loss']"
   ]
  },
  {
   "cell_type": "code",
   "execution_count": 40,
   "metadata": {},
   "outputs": [],
   "source": [
    "acc=dict['acc']\n",
    "epochs=range(1,len(acc)+1)"
   ]
  },
  {
   "cell_type": "code",
   "execution_count": 42,
   "metadata": {},
   "outputs": [
    {
     "data": {
      "image/png": "[encoded data removed]",
      "text/plain": [
       "<Figure size 432x288 with 1 Axes>"
      ]
     },
     "metadata": {
      "needs_background": "light"
     },
     "output_type": "display_data"
    }
   ],
   "source": [
    "plt.plot(epochs, lossvalues, 'bo', label='Training loss')\n",
    "plt.plot(epochs, vallossvalues, 'b', label='Validation loss')\n",
    "plt.title('Training and validation loss')\n",
    "plt.xlabel('Epochs')\n",
    "plt.ylabel('Loss')\n",
    "plt.legend()\n",
    "plt.show()"
   ]
  },
  {
   "cell_type": "code",
   "execution_count": 45,
   "metadata": {},
   "outputs": [
    {
     "data": {
      "image/png": "[encoded data removed]",
      "text/plain": [
       "<Figure size 432x288 with 1 Axes>"
      ]
     },
     "metadata": {
      "needs_background": "light"
     },
     "output_type": "display_data"
    }
   ],
   "source": [
    "acc_values = dict['acc']\n",
    "val_acc_values = dict['val_acc']\n",
    "plt.plot(epochs, acc, 'bo', label='Training acc')\n",
    "plt.plot(epochs, val_acc_values, 'b', label='Validation acc')\n",
    "plt.title('Training and validation accuracy')\n",
    "plt.xlabel('Epochs')\n",
    "plt.ylabel('Loss')\n",
    "plt.legend()\n",
    "plt.show()"
   ]
  },
  {
   "cell_type": "code",
   "execution_count": 46,
   "metadata": {},
   "outputs": [
    {
     "name": "stdout",
     "output_type": "stream",
     "text": [
      "782/782 [==============================] - 3s 2ms/step\n"
     ]
    },
    {
     "data": {
      "text/plain": [
       "array([[0.02459882],\n",
       "       [1.        ],\n",
       "       [0.9960524 ],\n",
       "       ...,\n",
       "       [0.01127768],\n",
       "       [0.02467704],\n",
       "       [0.9551693 ]], dtype=float32)"
      ]
     },
     "execution_count": 46,
     "metadata": {},
     "output_type": "execute_result"
    }
   ],
   "source": [
    "model.predict(x_test)"
   ]
  },
  {
   "cell_type": "code",
   "execution_count": null,
   "metadata": {},
   "outputs": [],
   "source": []
  }
 ],
 "metadata": {
  "kernelspec": {
   "display_name": "Python 3",
   "language": "python",
   "name": "python3"
  },
  "language_info": {
   "codemirror_mode": {
    "name": "ipython",
    "version": 3
   },
   "file_extension": ".py",
   "mimetype": "text/x-python",
   "name": "python",
   "nbconvert_exporter": "python",
   "pygments_lexer": "ipython3",
   "version": "3.10.2"
  },
  "orig_nbformat": 4,
  "vscode": {
   "interpreter": {
    "hash": "27f6fea6f47ae512550f0b8facdbd035a93e1dd89633f7bf2dd00a2502c71d0d"
   }
  }
 },
 "nbformat": 4,
 "nbformat_minor": 2
}
